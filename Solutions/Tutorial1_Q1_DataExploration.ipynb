{
 "cells": [
  {
   "cell_type": "markdown",
   "metadata": {},
   "source": [
    "# Tutorial 1: Data Exploration and Data Quality"
   ]
  },
  {
   "cell_type": "markdown",
   "metadata": {},
   "source": [
    "## Question 1"
   ]
  },
  {
   "cell_type": "markdown",
   "metadata": {},
   "source": [
    "### Step 1 : Import Iris Flower Dataset"
   ]
  },
  {
   "cell_type": "markdown",
   "metadata": {},
   "source": [
    "**<font color='red'>Code: Uses Pandas to read the CSV file and store them in a DataFrame object named data. Next, it will display the \n",
    "       the data frame</font>**"
   ]
  },
  {
   "cell_type": "code",
   "execution_count": 1,
   "metadata": {},
   "outputs": [
    {
     "data": {
      "text/html": [
       "<div>\n",
       "<style scoped>\n",
       "    .dataframe tbody tr th:only-of-type {\n",
       "        vertical-align: middle;\n",
       "    }\n",
       "\n",
       "    .dataframe tbody tr th {\n",
       "        vertical-align: top;\n",
       "    }\n",
       "\n",
       "    .dataframe thead th {\n",
       "        text-align: right;\n",
       "    }\n",
       "</style>\n",
       "<table border=\"1\" class=\"dataframe\">\n",
       "  <thead>\n",
       "    <tr style=\"text-align: right;\">\n",
       "      <th></th>\n",
       "      <th>sepal length(cm)</th>\n",
       "      <th>sepal width(cm)</th>\n",
       "      <th>petal length(cm)</th>\n",
       "      <th>petal width(cm)</th>\n",
       "      <th>class</th>\n",
       "    </tr>\n",
       "  </thead>\n",
       "  <tbody>\n",
       "    <tr>\n",
       "      <th>0</th>\n",
       "      <td>5.1</td>\n",
       "      <td>3.5</td>\n",
       "      <td>1.4</td>\n",
       "      <td>0.2</td>\n",
       "      <td>Iris-setosa</td>\n",
       "    </tr>\n",
       "    <tr>\n",
       "      <th>1</th>\n",
       "      <td>4.9</td>\n",
       "      <td>3.0</td>\n",
       "      <td>1.4</td>\n",
       "      <td>0.2</td>\n",
       "      <td>Iris-setosa</td>\n",
       "    </tr>\n",
       "    <tr>\n",
       "      <th>2</th>\n",
       "      <td>4.7</td>\n",
       "      <td>3.2</td>\n",
       "      <td>1.3</td>\n",
       "      <td>0.2</td>\n",
       "      <td>Iris-setosa</td>\n",
       "    </tr>\n",
       "    <tr>\n",
       "      <th>3</th>\n",
       "      <td>4.6</td>\n",
       "      <td>3.1</td>\n",
       "      <td>1.5</td>\n",
       "      <td>0.2</td>\n",
       "      <td>Iris-setosa</td>\n",
       "    </tr>\n",
       "    <tr>\n",
       "      <th>4</th>\n",
       "      <td>5.0</td>\n",
       "      <td>3.6</td>\n",
       "      <td>1.4</td>\n",
       "      <td>0.2</td>\n",
       "      <td>Iris-setosa</td>\n",
       "    </tr>\n",
       "    <tr>\n",
       "      <th>...</th>\n",
       "      <td>...</td>\n",
       "      <td>...</td>\n",
       "      <td>...</td>\n",
       "      <td>...</td>\n",
       "      <td>...</td>\n",
       "    </tr>\n",
       "    <tr>\n",
       "      <th>145</th>\n",
       "      <td>6.7</td>\n",
       "      <td>3.0</td>\n",
       "      <td>5.2</td>\n",
       "      <td>2.3</td>\n",
       "      <td>Iris-virginica</td>\n",
       "    </tr>\n",
       "    <tr>\n",
       "      <th>146</th>\n",
       "      <td>6.3</td>\n",
       "      <td>2.5</td>\n",
       "      <td>5.0</td>\n",
       "      <td>1.9</td>\n",
       "      <td>Iris-virginica</td>\n",
       "    </tr>\n",
       "    <tr>\n",
       "      <th>147</th>\n",
       "      <td>6.5</td>\n",
       "      <td>3.0</td>\n",
       "      <td>5.2</td>\n",
       "      <td>2.0</td>\n",
       "      <td>Iris-virginica</td>\n",
       "    </tr>\n",
       "    <tr>\n",
       "      <th>148</th>\n",
       "      <td>6.2</td>\n",
       "      <td>3.4</td>\n",
       "      <td>5.4</td>\n",
       "      <td>2.3</td>\n",
       "      <td>Iris-virginica</td>\n",
       "    </tr>\n",
       "    <tr>\n",
       "      <th>149</th>\n",
       "      <td>5.9</td>\n",
       "      <td>3.0</td>\n",
       "      <td>5.1</td>\n",
       "      <td>1.8</td>\n",
       "      <td>Iris-virginica</td>\n",
       "    </tr>\n",
       "  </tbody>\n",
       "</table>\n",
       "<p>150 rows × 5 columns</p>\n",
       "</div>"
      ],
      "text/plain": [
       "     sepal length(cm)  sepal width(cm)  petal length(cm)  petal width(cm)  \\\n",
       "0                 5.1              3.5               1.4              0.2   \n",
       "1                 4.9              3.0               1.4              0.2   \n",
       "2                 4.7              3.2               1.3              0.2   \n",
       "3                 4.6              3.1               1.5              0.2   \n",
       "4                 5.0              3.6               1.4              0.2   \n",
       "..                ...              ...               ...              ...   \n",
       "145               6.7              3.0               5.2              2.3   \n",
       "146               6.3              2.5               5.0              1.9   \n",
       "147               6.5              3.0               5.2              2.0   \n",
       "148               6.2              3.4               5.4              2.3   \n",
       "149               5.9              3.0               5.1              1.8   \n",
       "\n",
       "              class  \n",
       "0       Iris-setosa  \n",
       "1       Iris-setosa  \n",
       "2       Iris-setosa  \n",
       "3       Iris-setosa  \n",
       "4       Iris-setosa  \n",
       "..              ...  \n",
       "145  Iris-virginica  \n",
       "146  Iris-virginica  \n",
       "147  Iris-virginica  \n",
       "148  Iris-virginica  \n",
       "149  Iris-virginica  \n",
       "\n",
       "[150 rows x 5 columns]"
      ]
     },
     "execution_count": 1,
     "metadata": {},
     "output_type": "execute_result"
    }
   ],
   "source": [
    "import pandas as pd\n",
    "\n",
    "data = pd.read_csv('T1Q1_iris.data',header=None)\n",
    "data.columns = ['sepal length(cm)', 'sepal width(cm)', 'petal length(cm)', 'petal width(cm)', 'class']\n",
    "data"
   ]
  },
  {
   "cell_type": "markdown",
   "metadata": {},
   "source": [
    "### Step 2 : For each quantitative attribute, find its mean, standard deviation, minimum,maximum values,\n",
    "###          covariance and correlation with libraries."
   ]
  },
  {
   "cell_type": "markdown",
   "metadata": {},
   "source": [
    "**<font color='red'>Code:</font>** \n",
    "    \n",
    "**<font color='red'>    1)Check data is numeric by using is_numeric_dtype() function</font>**\n",
    "\n",
    "**<font color='red'>    2)Use mean(), std(),min(), max(),cov(),corr() statistical function </font>** \n",
    "    \n",
    "    "
   ]
  },
  {
   "cell_type": "code",
   "execution_count": 2,
   "metadata": {},
   "outputs": [
    {
     "name": "stdout",
     "output_type": "stream",
     "text": [
      "sepal length(cm):\n",
      "\t Mean = 5.84\n",
      "\t Standard deviation = 0.83\n",
      "\t Minimum = 4.30\n",
      "\t Maximum = 7.90\n",
      "sepal width(cm):\n",
      "\t Mean = 3.05\n",
      "\t Standard deviation = 0.43\n",
      "\t Minimum = 2.00\n",
      "\t Maximum = 4.40\n",
      "petal length(cm):\n",
      "\t Mean = 3.76\n",
      "\t Standard deviation = 1.76\n",
      "\t Minimum = 1.00\n",
      "\t Maximum = 6.90\n",
      "petal width(cm):\n",
      "\t Mean = 1.20\n",
      "\t Standard deviation = 0.76\n",
      "\t Minimum = 0.10\n",
      "\t Maximum = 2.50\n"
     ]
    }
   ],
   "source": [
    "from pandas.api.types import is_numeric_dtype\n",
    "\n",
    "for col in data.columns:\n",
    "    if is_numeric_dtype(data[col]):\n",
    "        print('%s:' %(col))\n",
    "        print('\\t Mean = %.2f' %data[col].mean())\n",
    "        print('\\t Standard deviation = %.2f' %data[col].std())\n",
    "        print('\\t Minimum = %.2f' %data[col].min())\n",
    "        print('\\t Maximum = %.2f' %data[col].max())\n",
    "    "
   ]
  },
  {
   "cell_type": "code",
   "execution_count": 3,
   "metadata": {},
   "outputs": [
    {
     "name": "stdout",
     "output_type": "stream",
     "text": [
      "\n",
      "Covariance:\n"
     ]
    },
    {
     "data": {
      "text/html": [
       "<div>\n",
       "<style scoped>\n",
       "    .dataframe tbody tr th:only-of-type {\n",
       "        vertical-align: middle;\n",
       "    }\n",
       "\n",
       "    .dataframe tbody tr th {\n",
       "        vertical-align: top;\n",
       "    }\n",
       "\n",
       "    .dataframe thead th {\n",
       "        text-align: right;\n",
       "    }\n",
       "</style>\n",
       "<table border=\"1\" class=\"dataframe\">\n",
       "  <thead>\n",
       "    <tr style=\"text-align: right;\">\n",
       "      <th></th>\n",
       "      <th>sepal length(cm)</th>\n",
       "      <th>sepal width(cm)</th>\n",
       "      <th>petal length(cm)</th>\n",
       "      <th>petal width(cm)</th>\n",
       "    </tr>\n",
       "  </thead>\n",
       "  <tbody>\n",
       "    <tr>\n",
       "      <th>sepal length(cm)</th>\n",
       "      <td>0.685694</td>\n",
       "      <td>-0.039268</td>\n",
       "      <td>1.273682</td>\n",
       "      <td>0.516904</td>\n",
       "    </tr>\n",
       "    <tr>\n",
       "      <th>sepal width(cm)</th>\n",
       "      <td>-0.039268</td>\n",
       "      <td>0.188004</td>\n",
       "      <td>-0.321713</td>\n",
       "      <td>-0.117981</td>\n",
       "    </tr>\n",
       "    <tr>\n",
       "      <th>petal length(cm)</th>\n",
       "      <td>1.273682</td>\n",
       "      <td>-0.321713</td>\n",
       "      <td>3.113179</td>\n",
       "      <td>1.296387</td>\n",
       "    </tr>\n",
       "    <tr>\n",
       "      <th>petal width(cm)</th>\n",
       "      <td>0.516904</td>\n",
       "      <td>-0.117981</td>\n",
       "      <td>1.296387</td>\n",
       "      <td>0.582414</td>\n",
       "    </tr>\n",
       "  </tbody>\n",
       "</table>\n",
       "</div>"
      ],
      "text/plain": [
       "                  sepal length(cm)  sepal width(cm)  petal length(cm)  \\\n",
       "sepal length(cm)          0.685694        -0.039268          1.273682   \n",
       "sepal width(cm)          -0.039268         0.188004         -0.321713   \n",
       "petal length(cm)          1.273682        -0.321713          3.113179   \n",
       "petal width(cm)           0.516904        -0.117981          1.296387   \n",
       "\n",
       "                  petal width(cm)  \n",
       "sepal length(cm)         0.516904  \n",
       "sepal width(cm)         -0.117981  \n",
       "petal length(cm)         1.296387  \n",
       "petal width(cm)          0.582414  "
      ]
     },
     "execution_count": 3,
     "metadata": {},
     "output_type": "execute_result"
    }
   ],
   "source": [
    "print(\"\\nCovariance:\")\n",
    "data.cov()"
   ]
  },
  {
   "cell_type": "code",
   "execution_count": 4,
   "metadata": {},
   "outputs": [
    {
     "name": "stdout",
     "output_type": "stream",
     "text": [
      "\n",
      "Correlation:\n"
     ]
    },
    {
     "data": {
      "text/html": [
       "<div>\n",
       "<style scoped>\n",
       "    .dataframe tbody tr th:only-of-type {\n",
       "        vertical-align: middle;\n",
       "    }\n",
       "\n",
       "    .dataframe tbody tr th {\n",
       "        vertical-align: top;\n",
       "    }\n",
       "\n",
       "    .dataframe thead th {\n",
       "        text-align: right;\n",
       "    }\n",
       "</style>\n",
       "<table border=\"1\" class=\"dataframe\">\n",
       "  <thead>\n",
       "    <tr style=\"text-align: right;\">\n",
       "      <th></th>\n",
       "      <th>sepal length(cm)</th>\n",
       "      <th>sepal width(cm)</th>\n",
       "      <th>petal length(cm)</th>\n",
       "      <th>petal width(cm)</th>\n",
       "    </tr>\n",
       "  </thead>\n",
       "  <tbody>\n",
       "    <tr>\n",
       "      <th>sepal length(cm)</th>\n",
       "      <td>1.000000</td>\n",
       "      <td>-0.109369</td>\n",
       "      <td>0.871754</td>\n",
       "      <td>0.817954</td>\n",
       "    </tr>\n",
       "    <tr>\n",
       "      <th>sepal width(cm)</th>\n",
       "      <td>-0.109369</td>\n",
       "      <td>1.000000</td>\n",
       "      <td>-0.420516</td>\n",
       "      <td>-0.356544</td>\n",
       "    </tr>\n",
       "    <tr>\n",
       "      <th>petal length(cm)</th>\n",
       "      <td>0.871754</td>\n",
       "      <td>-0.420516</td>\n",
       "      <td>1.000000</td>\n",
       "      <td>0.962757</td>\n",
       "    </tr>\n",
       "    <tr>\n",
       "      <th>petal width(cm)</th>\n",
       "      <td>0.817954</td>\n",
       "      <td>-0.356544</td>\n",
       "      <td>0.962757</td>\n",
       "      <td>1.000000</td>\n",
       "    </tr>\n",
       "  </tbody>\n",
       "</table>\n",
       "</div>"
      ],
      "text/plain": [
       "                  sepal length(cm)  sepal width(cm)  petal length(cm)  \\\n",
       "sepal length(cm)          1.000000        -0.109369          0.871754   \n",
       "sepal width(cm)          -0.109369         1.000000         -0.420516   \n",
       "petal length(cm)          0.871754        -0.420516          1.000000   \n",
       "petal width(cm)           0.817954        -0.356544          0.962757   \n",
       "\n",
       "                  petal width(cm)  \n",
       "sepal length(cm)         0.817954  \n",
       "sepal width(cm)         -0.356544  \n",
       "petal length(cm)         0.962757  \n",
       "petal width(cm)          1.000000  "
      ]
     },
     "execution_count": 4,
     "metadata": {},
     "output_type": "execute_result"
    }
   ],
   "source": [
    "print(\"\\nCorrelation:\")\n",
    "data.corr()"
   ]
  },
  {
   "cell_type": "markdown",
   "metadata": {},
   "source": [
    "### Step 3 : For each quantitative attribute, find its mean, standard deviation, minimum,maximum values,\n",
    "###          covariance and correlation without libraries."
   ]
  },
  {
   "cell_type": "markdown",
   "metadata": {},
   "source": [
    "**<font color='red'>Code:Mean</font>** "
   ]
  },
  {
   "cell_type": "code",
   "execution_count": 5,
   "metadata": {},
   "outputs": [
    {
     "name": "stdout",
     "output_type": "stream",
     "text": [
      "sepal length(cm):\n",
      "\t\tMean=5.84\n",
      "sepal width(cm):\n",
      "\t\tMean=3.05\n",
      "petal length(cm):\n",
      "\t\tMean=3.76\n",
      "petal width(cm):\n",
      "\t\tMean=1.20\n"
     ]
    }
   ],
   "source": [
    "from typing import List\n",
    "\n",
    "def mean(xs: List[float]) -> float:\n",
    "    meanxs=sum(xs)/len(xs)\n",
    "    return meanxs\n",
    "\n",
    "for col in data.columns:\n",
    "    if is_numeric_dtype(data[col]):\n",
    "        print('%s:' %(col))\n",
    "        print(\"\\t\\tMean=%0.2f\"%mean(data[col]))"
   ]
  },
  {
   "cell_type": "markdown",
   "metadata": {},
   "source": [
    "**<font color='red'>Code:Standard deviation</font>** "
   ]
  },
  {
   "cell_type": "code",
   "execution_count": 6,
   "metadata": {},
   "outputs": [
    {
     "name": "stdout",
     "output_type": "stream",
     "text": [
      "sepal length(cm):\n",
      "\t\tMean=5.84\n",
      "\t\tstandard deviation sigma=0.83\n",
      "sepal width(cm):\n",
      "\t\tMean=3.05\n",
      "\t\tstandard deviation sigma=0.43\n",
      "petal length(cm):\n",
      "\t\tMean=3.76\n",
      "\t\tstandard deviation sigma=1.76\n",
      "petal width(cm):\n",
      "\t\tMean=1.20\n",
      "\t\tstandard deviation sigma=0.76\n"
     ]
    }
   ],
   "source": [
    "from typing import List\n",
    "import math\n",
    "\n",
    "Vector=List[float]\n",
    "\n",
    "def de_mean(xs: List[float]) -> List[float]:\n",
    "    \"\"\"Translate xs by subtracting its mean (so the result has mean 0)\"\"\"\n",
    "    x_bar = mean(xs)\n",
    "    return [x - x_bar for x in xs]\n",
    "\n",
    "def dot(v: Vector, w: Vector) -> float:\n",
    "    \"\"\"Computes v_1 * w_1 + ... + v_n * w_n\"\"\"\n",
    "    return sum(v_i * w_i for v_i, w_i in zip(v, w))\n",
    "\n",
    "def sum_of_squares(v: Vector) -> float:\n",
    "    \"\"\"Returns v_1 * v_1 + ... + v_n * v_n\"\"\"\n",
    "    return dot(v, v)\n",
    "\n",
    "def variance(xs: List[float]) -> float:\n",
    "    \"\"\"Almost the average squared deviation from the mean\"\"\"\n",
    "    n = len(xs)\n",
    "    deviations = de_mean(xs)\n",
    "    return sum_of_squares(deviations) / (n - 1)\n",
    "\n",
    "def standard_deviation(xs: List[float]) -> float:\n",
    "    \"\"\"The standard deviation is the square root of the variance\"\"\"\n",
    "    sigma= math.sqrt(variance(xs))\n",
    "    print('\\t\\tstandard deviation sigma=%0.2f' %sigma)\n",
    "    return sigma\n",
    "\n",
    "for col in data.columns:\n",
    "    if is_numeric_dtype(data[col]):\n",
    "        print('%s:' %(col))\n",
    "        print(\"\\t\\tMean=%0.2f\"%mean(data[col]))\n",
    "        standard_deviation(data[col])\n",
    "        "
   ]
  },
  {
   "cell_type": "markdown",
   "metadata": {},
   "source": [
    "**<font color='red'>Code:Min and Max</font>** "
   ]
  },
  {
   "cell_type": "code",
   "execution_count": 7,
   "metadata": {},
   "outputs": [
    {
     "name": "stdout",
     "output_type": "stream",
     "text": [
      "sepal length(cm):\n",
      "\t\tMean=5.84\n",
      "\t\tstandard deviation sigma=0.83\n",
      "\t\tMinimum=4.30\n",
      "\t\tMaximium=7.90\n",
      "sepal width(cm):\n",
      "\t\tMean=3.05\n",
      "\t\tstandard deviation sigma=0.43\n",
      "\t\tMinimum=2.00\n",
      "\t\tMaximium=4.40\n",
      "petal length(cm):\n",
      "\t\tMean=3.76\n",
      "\t\tstandard deviation sigma=1.76\n",
      "\t\tMinimum=1.00\n",
      "\t\tMaximium=6.90\n",
      "petal width(cm):\n",
      "\t\tMean=1.20\n",
      "\t\tstandard deviation sigma=0.76\n",
      "\t\tMinimum=0.10\n",
      "\t\tMaximium=2.50\n"
     ]
    }
   ],
   "source": [
    "def data_range(xs: List[float]) -> float:\n",
    "    print('\\t\\tMinimum=%0.2f'%min(xs))\n",
    "    print('\\t\\tMaximium=%0.2f'%max(xs))\n",
    "    return max(xs), min(xs)\n",
    "\n",
    "for col in data.columns:\n",
    "    if is_numeric_dtype(data[col]):\n",
    "        print('%s:' %(col))\n",
    "        print(\"\\t\\tMean=%0.2f\"%mean(data[col]))\n",
    "        standard_deviation(data[col])\n",
    "        data_range(data[col])"
   ]
  },
  {
   "cell_type": "markdown",
   "metadata": {},
   "source": [
    "**<font color='red'>Code:Covariance</font>** "
   ]
  },
  {
   "cell_type": "code",
   "execution_count": 8,
   "metadata": {},
   "outputs": [
    {
     "name": "stdout",
     "output_type": "stream",
     "text": [
      "Covariance between sepal length(cm):\n",
      "\tand sepal length(cm):\n",
      "\t\t0.6856935123042505\n",
      "\tand sepal width(cm):\n",
      "\t\t-0.03926845637583892\n",
      "\tand petal length(cm):\n",
      "\t\t1.2736823266219242\n",
      "\tand petal width(cm):\n",
      "\t\t0.5169038031319912\n",
      "Covariance between sepal width(cm):\n",
      "\tand sepal length(cm):\n",
      "\t\t-0.03926845637583892\n",
      "\tand sepal width(cm):\n",
      "\t\t0.18800402684563763\n",
      "\tand petal length(cm):\n",
      "\t\t-0.32171275167785246\n",
      "\tand petal width(cm):\n",
      "\t\t-0.11798120805369122\n",
      "Covariance between petal length(cm):\n",
      "\tand sepal length(cm):\n",
      "\t\t1.2736823266219242\n",
      "\tand sepal width(cm):\n",
      "\t\t-0.32171275167785246\n",
      "\tand petal length(cm):\n",
      "\t\t3.1131794183445156\n",
      "\tand petal width(cm):\n",
      "\t\t1.2963874720357946\n",
      "Covariance between petal width(cm):\n",
      "\tand sepal length(cm):\n",
      "\t\t0.5169038031319912\n",
      "\tand sepal width(cm):\n",
      "\t\t-0.11798120805369122\n",
      "\tand petal length(cm):\n",
      "\t\t1.2963874720357946\n",
      "\tand petal width(cm):\n",
      "\t\t0.5824143176733784\n"
     ]
    }
   ],
   "source": [
    "def covariance(xs:List[Vector],ys:List[float])->float:\n",
    "    return dot(de_mean(xs),de_mean(ys))/(len(xs)-1)\n",
    "\n",
    "for col in data.columns:\n",
    "    if is_numeric_dtype(data[col]):\n",
    "        print('Covariance between %s:' %(col))\n",
    "        for col1 in data.columns:\n",
    "            if is_numeric_dtype(data[col1]):\n",
    "                print('\\tand %s:' %(col1))\n",
    "                print('\\t\\t%s' %covariance(data[col],data[col1]))\n",
    "\n"
   ]
  },
  {
   "cell_type": "markdown",
   "metadata": {},
   "source": [
    "**<font color='red'>Code:Correlation</font>** "
   ]
  },
  {
   "cell_type": "code",
   "execution_count": 9,
   "metadata": {},
   "outputs": [
    {
     "name": "stdout",
     "output_type": "stream",
     "text": [
      "Correlation between sepal length(cm):\n",
      "\t and sepal length(cm):\n",
      "\t\tstandard deviation sigma=0.83\n",
      "\t\tstandard deviation sigma=0.83\n",
      "\t\tcorrelation = 1.0\n",
      "\t and sepal width(cm):\n",
      "\t\tstandard deviation sigma=0.83\n",
      "\t\tstandard deviation sigma=0.43\n",
      "\t\tcorrelation = -0.10936924995064935\n",
      "\t and petal length(cm):\n",
      "\t\tstandard deviation sigma=0.83\n",
      "\t\tstandard deviation sigma=1.76\n",
      "\t\tcorrelation = 0.8717541573048719\n",
      "\t and petal width(cm):\n",
      "\t\tstandard deviation sigma=0.83\n",
      "\t\tstandard deviation sigma=0.76\n",
      "\t\tcorrelation = 0.8179536333691637\n",
      "Correlation between sepal width(cm):\n",
      "\t and sepal length(cm):\n",
      "\t\tstandard deviation sigma=0.43\n",
      "\t\tstandard deviation sigma=0.83\n",
      "\t\tcorrelation = -0.10936924995064935\n",
      "\t and sepal width(cm):\n",
      "\t\tstandard deviation sigma=0.43\n",
      "\t\tstandard deviation sigma=0.43\n",
      "\t\tcorrelation = 1.0\n",
      "\t and petal length(cm):\n",
      "\t\tstandard deviation sigma=0.43\n",
      "\t\tstandard deviation sigma=1.76\n",
      "\t\tcorrelation = -0.42051609640115484\n",
      "\t and petal width(cm):\n",
      "\t\tstandard deviation sigma=0.43\n",
      "\t\tstandard deviation sigma=0.76\n",
      "\t\tcorrelation = -0.35654408961380557\n",
      "Correlation between petal length(cm):\n",
      "\t and sepal length(cm):\n",
      "\t\tstandard deviation sigma=1.76\n",
      "\t\tstandard deviation sigma=0.83\n",
      "\t\tcorrelation = 0.8717541573048719\n",
      "\t and sepal width(cm):\n",
      "\t\tstandard deviation sigma=1.76\n",
      "\t\tstandard deviation sigma=0.43\n",
      "\t\tcorrelation = -0.4205160964011549\n",
      "\t and petal length(cm):\n",
      "\t\tstandard deviation sigma=1.76\n",
      "\t\tstandard deviation sigma=1.76\n",
      "\t\tcorrelation = 1.0\n",
      "\t and petal width(cm):\n",
      "\t\tstandard deviation sigma=1.76\n",
      "\t\tstandard deviation sigma=0.76\n",
      "\t\tcorrelation = 0.9627570970509669\n",
      "Correlation between petal width(cm):\n",
      "\t and sepal length(cm):\n",
      "\t\tstandard deviation sigma=0.76\n",
      "\t\tstandard deviation sigma=0.83\n",
      "\t\tcorrelation = 0.8179536333691636\n",
      "\t and sepal width(cm):\n",
      "\t\tstandard deviation sigma=0.76\n",
      "\t\tstandard deviation sigma=0.43\n",
      "\t\tcorrelation = -0.35654408961380557\n",
      "\t and petal length(cm):\n",
      "\t\tstandard deviation sigma=0.76\n",
      "\t\tstandard deviation sigma=1.76\n",
      "\t\tcorrelation = 0.962757097050967\n",
      "\t and petal width(cm):\n",
      "\t\tstandard deviation sigma=0.76\n",
      "\t\tstandard deviation sigma=0.76\n",
      "\t\tcorrelation = 1.0000000000000002\n"
     ]
    }
   ],
   "source": [
    "def correlation(xs: List[float], ys: List[float]) -> float:\n",
    "    \"\"\"Measures how much xs and ys vary in tandem about their means\"\"\"\n",
    "    stdev_x = standard_deviation(xs)\n",
    "    stdev_y = standard_deviation(ys)\n",
    "    if stdev_x > 0 and stdev_y > 0:\n",
    "        return covariance(xs, ys) / stdev_x / stdev_y\n",
    "    else:\n",
    "        return 0    # if no variation, correlation is zero\n",
    "\n",
    "for col in data.columns:\n",
    "    if is_numeric_dtype(data[col]):\n",
    "        print('Correlation between %s:' %(col))\n",
    "        for col1 in data.columns:\n",
    "            if is_numeric_dtype(data[col1]):\n",
    "                print('\\t and %s:' %(col1))\n",
    "                print('\\t\\tcorrelation = %s' %correlation(data[col],data[col1]))\n"
   ]
  },
  {
   "cell_type": "markdown",
   "metadata": {},
   "source": [
    "### Step 4 : Data Visualization"
   ]
  },
  {
   "cell_type": "markdown",
   "metadata": {},
   "source": [
    "**<font color='red'>Code:</font>**"
   ]
  },
  {
   "cell_type": "markdown",
   "metadata": {},
   "source": [
    "**<font color='red'>    a)Histogram for the petal length attribute by discretizing it into 20 separate bins</font>**\n",
    "**<font color='red'>and counting the frequency for each bin.</font>**"
   ]
  },
  {
   "cell_type": "code",
   "execution_count": 10,
   "metadata": {},
   "outputs": [
    {
     "data": {
      "text/plain": [
       "<AxesSubplot:>"
      ]
     },
     "execution_count": 10,
     "metadata": {},
     "output_type": "execute_result"
    },
    {
     "data": {
      "image/png": "[encoded data removed]",
      "text/plain": [
       "<Figure size 432x288 with 1 Axes>"
      ]
     },
     "metadata": {
      "needs_background": "light"
     },
     "output_type": "display_data"
    }
   ],
   "source": [
    "%matplotlib inline\n",
    "\n",
    "data['petal length(cm)'].hist(bins=20)"
   ]
  },
  {
   "cell_type": "markdown",
   "metadata": {},
   "source": [
    "**<font color='red'>    b)Boxplot to show the distribution of values for each attribute.</font>**"
   ]
  },
  {
   "cell_type": "code",
   "execution_count": 11,
   "metadata": {},
   "outputs": [
    {
     "data": {
      "text/plain": [
       "<AxesSubplot:>"
      ]
     },
     "execution_count": 11,
     "metadata": {},
     "output_type": "execute_result"
    },
    {
     "data": {
      "image/png": "[encoded data removed]",
      "text/plain": [
       "<Figure size 432x288 with 1 Axes>"
      ]
     },
     "metadata": {
      "needs_background": "light"
     },
     "output_type": "display_data"
    }
   ],
   "source": [
    "data.boxplot()"
   ]
  },
  {
   "cell_type": "markdown",
   "metadata": {},
   "source": [
    "**<font color='red'>    c)Scatterplot to visualize the joint distribution between pairs of attributes.</font>**"
   ]
  },
  {
   "cell_type": "code",
   "execution_count": 12,
   "metadata": {},
   "outputs": [
    {
     "data": {
      "image/png": "[encoded data removed]",
      "text/plain": [
       "<Figure size 864x864 with 6 Axes>"
      ]
     },
     "metadata": {
      "needs_background": "light"
     },
     "output_type": "display_data"
    }
   ],
   "source": [
    "import matplotlib.pyplot as plt\n",
    "\n",
    "fig, axes = plt.subplots(3, 2, figsize=(12,12))\n",
    "index = 0\n",
    "for i in range(3):\n",
    "    for j in range(i+1,4):\n",
    "        ax1 = int(index/2)\n",
    "        ax2 = index % 2\n",
    "        axes[ax1][ax2].scatter(data[data.columns[i]], data[data.columns[j]], color='red')\n",
    "        axes[ax1][ax2].set_xlabel(data.columns[i])\n",
    "        axes[ax1][ax2].set_ylabel(data.columns[j])\n",
    "        index = index + 1"
   ]
  },
  {
   "cell_type": "markdown",
   "metadata": {},
   "source": [
    "**<font color='red'>    d)Parallel coordinates: used to display all the data points simultaneously. \n",
    "Parallel coordinates have one coordinate axis for each attribute, but the different axes are parallel to one \n",
    "other instead of perpendicular, as is traditional. Furthermore, an object is represented as a line instead of as \n",
    "a point. The distribution of values for each class can be identified in a separate color.</font>**"
   ]
  },
  {
   "cell_type": "code",
   "execution_count": 13,
   "metadata": {},
   "outputs": [
    {
     "data": {
      "text/plain": [
       "<AxesSubplot:>"
      ]
     },
     "execution_count": 13,
     "metadata": {},
     "output_type": "execute_result"
    },
    {
     "data": {
      "image/png": "[encoded data removed]",
      "text/plain": [
       "<Figure size 432x288 with 1 Axes>"
      ]
     },
     "metadata": {
      "needs_background": "light"
     },
     "output_type": "display_data"
    }
   ],
   "source": [
    "from pandas.plotting import parallel_coordinates\n",
    "%matplotlib inline\n",
    "\n",
    "parallel_coordinates(data, 'class')"
   ]
  },
  {
   "cell_type": "code",
   "execution_count": null,
   "metadata": {},
   "outputs": [],
   "source": []
  }
 ],
 "metadata": {
  "interpreter": {
   "hash": "ef07eebef7ba7082f271b40e7dc39c9f4d0862b0fc142ac0a1f06e87e760aa5b"
  },
  "kernelspec": {
   "display_name": "Python 3.9.2 64-bit",
   "language": "python",
   "name": "python3"
  },
  "language_info": {
   "codemirror_mode": {
    "name": "ipython",
    "version": 3
   },
   "file_extension": ".py",
   "mimetype": "text/x-python",
   "name": "python",
   "nbconvert_exporter": "python",
   "pygments_lexer": "ipython3",
   "version": "3.9.2"
  }
 },
 "nbformat": 4,
 "nbformat_minor": 4
}
